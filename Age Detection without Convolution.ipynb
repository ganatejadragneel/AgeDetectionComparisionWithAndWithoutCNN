{
 "cells": [
  {
   "cell_type": "code",
   "execution_count": 1,
   "metadata": {
    "ExecuteTime": {
     "end_time": "2019-03-31T12:39:31.383576Z",
     "start_time": "2019-03-31T12:39:30.845569Z"
    }
   },
   "outputs": [],
   "source": [
    "%matplotlib inline"
   ]
  },
  {
   "cell_type": "code",
   "execution_count": 2,
   "metadata": {
    "ExecuteTime": {
     "end_time": "2019-03-31T12:39:40.799634Z",
     "start_time": "2019-03-31T12:39:31.389567Z"
    }
   },
   "outputs": [],
   "source": [
    "import os\n",
    "from PIL import Image\n",
    "import random\n",
    "import matplotlib.pyplot as plt\n",
    "import pandas as pd\n",
    "import numpy as np\n",
    "from scipy.misc.pilutil import imread,imshow"
   ]
  },
  {
   "cell_type": "code",
   "execution_count": 3,
   "metadata": {
    "ExecuteTime": {
     "end_time": "2019-03-31T12:39:40.853638Z",
     "start_time": "2019-03-31T12:39:40.804636Z"
    }
   },
   "outputs": [],
   "source": [
    "from IPython.display import clear_output\n",
    "import cv2"
   ]
  },
  {
   "cell_type": "code",
   "execution_count": 4,
   "metadata": {
    "ExecuteTime": {
     "end_time": "2019-03-31T12:39:41.097670Z",
     "start_time": "2019-03-31T12:39:40.856638Z"
    }
   },
   "outputs": [],
   "source": [
    "train = pd.read_csv(\"./train.csv\")\n",
    "test = pd.read_csv(\"./test.csv\")"
   ]
  },
  {
   "cell_type": "code",
   "execution_count": 5,
   "metadata": {
    "ExecuteTime": {
     "end_time": "2019-03-31T12:39:41.319635Z",
     "start_time": "2019-03-31T12:39:41.100636Z"
    }
   },
   "outputs": [
    {
     "data": {
      "text/html": [
       "<div>\n",
       "<style scoped>\n",
       "    .dataframe tbody tr th:only-of-type {\n",
       "        vertical-align: middle;\n",
       "    }\n",
       "\n",
       "    .dataframe tbody tr th {\n",
       "        vertical-align: top;\n",
       "    }\n",
       "\n",
       "    .dataframe thead th {\n",
       "        text-align: right;\n",
       "    }\n",
       "</style>\n",
       "<table border=\"1\" class=\"dataframe\">\n",
       "  <thead>\n",
       "    <tr style=\"text-align: right;\">\n",
       "      <th></th>\n",
       "      <th>ID</th>\n",
       "      <th>Class</th>\n",
       "    </tr>\n",
       "  </thead>\n",
       "  <tbody>\n",
       "    <tr>\n",
       "      <th>0</th>\n",
       "      <td>377.jpg</td>\n",
       "      <td>MIDDLE</td>\n",
       "    </tr>\n",
       "    <tr>\n",
       "      <th>1</th>\n",
       "      <td>17814.jpg</td>\n",
       "      <td>YOUNG</td>\n",
       "    </tr>\n",
       "    <tr>\n",
       "      <th>2</th>\n",
       "      <td>21283.jpg</td>\n",
       "      <td>MIDDLE</td>\n",
       "    </tr>\n",
       "    <tr>\n",
       "      <th>3</th>\n",
       "      <td>16496.jpg</td>\n",
       "      <td>YOUNG</td>\n",
       "    </tr>\n",
       "    <tr>\n",
       "      <th>4</th>\n",
       "      <td>4487.jpg</td>\n",
       "      <td>MIDDLE</td>\n",
       "    </tr>\n",
       "  </tbody>\n",
       "</table>\n",
       "</div>"
      ],
      "text/plain": [
       "          ID   Class\n",
       "0    377.jpg  MIDDLE\n",
       "1  17814.jpg   YOUNG\n",
       "2  21283.jpg  MIDDLE\n",
       "3  16496.jpg   YOUNG\n",
       "4   4487.jpg  MIDDLE"
      ]
     },
     "execution_count": 5,
     "metadata": {},
     "output_type": "execute_result"
    }
   ],
   "source": [
    "train.head()"
   ]
  },
  {
   "cell_type": "code",
   "execution_count": 6,
   "metadata": {
    "ExecuteTime": {
     "end_time": "2019-03-31T12:39:41.571642Z",
     "start_time": "2019-03-31T12:39:41.321635Z"
    }
   },
   "outputs": [
    {
     "data": {
      "text/html": [
       "<div>\n",
       "<style scoped>\n",
       "    .dataframe tbody tr th:only-of-type {\n",
       "        vertical-align: middle;\n",
       "    }\n",
       "\n",
       "    .dataframe tbody tr th {\n",
       "        vertical-align: top;\n",
       "    }\n",
       "\n",
       "    .dataframe thead th {\n",
       "        text-align: right;\n",
       "    }\n",
       "</style>\n",
       "<table border=\"1\" class=\"dataframe\">\n",
       "  <thead>\n",
       "    <tr style=\"text-align: right;\">\n",
       "      <th></th>\n",
       "      <th>ID</th>\n",
       "    </tr>\n",
       "  </thead>\n",
       "  <tbody>\n",
       "    <tr>\n",
       "      <th>0</th>\n",
       "      <td>25321.jpg</td>\n",
       "    </tr>\n",
       "    <tr>\n",
       "      <th>1</th>\n",
       "      <td>989.jpg</td>\n",
       "    </tr>\n",
       "    <tr>\n",
       "      <th>2</th>\n",
       "      <td>19277.jpg</td>\n",
       "    </tr>\n",
       "    <tr>\n",
       "      <th>3</th>\n",
       "      <td>13093.jpg</td>\n",
       "    </tr>\n",
       "    <tr>\n",
       "      <th>4</th>\n",
       "      <td>5367.jpg</td>\n",
       "    </tr>\n",
       "  </tbody>\n",
       "</table>\n",
       "</div>"
      ],
      "text/plain": [
       "          ID\n",
       "0  25321.jpg\n",
       "1    989.jpg\n",
       "2  19277.jpg\n",
       "3  13093.jpg\n",
       "4   5367.jpg"
      ]
     },
     "execution_count": 6,
     "metadata": {},
     "output_type": "execute_result"
    }
   ],
   "source": [
    "test.head()"
   ]
  },
  {
   "cell_type": "code",
   "execution_count": 7,
   "metadata": {
    "ExecuteTime": {
     "end_time": "2019-03-31T12:39:42.224635Z",
     "start_time": "2019-03-31T12:39:41.577640Z"
    }
   },
   "outputs": [
    {
     "name": "stdout",
     "output_type": "stream",
     "text": [
      "Age:  MIDDLE\n"
     ]
    },
    {
     "data": {
      "image/png": "[encoded data removed]",
      "text/plain": [
       "<Figure size 432x288 with 1 Axes>"
      ]
     },
     "metadata": {
      "needs_background": "light"
     },
     "output_type": "display_data"
    }
   ],
   "source": [
    "i = random.choice(train.index)\n",
    "\n",
    "img_name = train.ID[i]\n",
    "img = cv2.imread(os.path.join('./Train', img_name))\n",
    "\n",
    "print('Age: ', train.Class[i])\n",
    "plt.imshow(img)\n",
    "plt.show()"
   ]
  },
  {
   "cell_type": "code",
   "execution_count": 8,
   "metadata": {
    "ExecuteTime": {
     "end_time": "2019-03-31T12:51:40.369181Z",
     "start_time": "2019-03-31T12:39:42.239637Z"
    }
   },
   "outputs": [
    {
     "name": "stdout",
     "output_type": "stream",
     "text": [
      "19906\n"
     ]
    }
   ],
   "source": [
    "from skimage.transform import rescale, resize\n",
    "\n",
    "temp = []\n",
    "count = 0\n",
    "for img_name in train.ID:\n",
    "    img_path = os.path.join('./Train/', img_name)\n",
    "    img = Image.open(img_path).convert('LA')\n",
    "    img = img.resize((32, 32))\n",
    "    temp.append(img)\n",
    "    clear_output()\n",
    "    count+=1\n",
    "    print(count)\n",
    "\n",
    "train_x = np.stack(temp)"
   ]
  },
  {
   "cell_type": "code",
   "execution_count": 9,
   "metadata": {
    "ExecuteTime": {
     "end_time": "2019-03-31T12:54:39.386093Z",
     "start_time": "2019-03-31T12:51:40.374093Z"
    }
   },
   "outputs": [
    {
     "name": "stdout",
     "output_type": "stream",
     "text": [
      "6636\n"
     ]
    }
   ],
   "source": [
    "temp = []\n",
    "count = 0\n",
    "for img_name in test.ID:\n",
    "    img_path = os.path.join('./Test/', img_name)\n",
    "    img = Image.open(img_path).convert('LA')\n",
    "    img = img.resize((32, 32))\n",
    "    temp.append(img)\n",
    "    clear_output()\n",
    "    count+=1\n",
    "    print(count)\n",
    "\n",
    "test_x = np.stack(temp)"
   ]
  },
  {
   "cell_type": "code",
   "execution_count": 10,
   "metadata": {
    "ExecuteTime": {
     "end_time": "2019-03-31T12:54:39.691080Z",
     "start_time": "2019-03-31T12:54:39.389082Z"
    }
   },
   "outputs": [],
   "source": [
    "train_x = train_x / 255.\n",
    "test_x = test_x / 255."
   ]
  },
  {
   "cell_type": "code",
   "execution_count": 11,
   "metadata": {
    "ExecuteTime": {
     "end_time": "2019-03-31T12:54:40.175085Z",
     "start_time": "2019-03-31T12:54:39.693084Z"
    }
   },
   "outputs": [
    {
     "data": {
      "text/plain": [
       "MIDDLE    0.542751\n",
       "YOUNG     0.336883\n",
       "OLD       0.120366\n",
       "Name: Class, dtype: float64"
      ]
     },
     "execution_count": 11,
     "metadata": {},
     "output_type": "execute_result"
    }
   ],
   "source": [
    "train.Class.value_counts(normalize=True)"
   ]
  },
  {
   "cell_type": "code",
   "execution_count": 12,
   "metadata": {
    "ExecuteTime": {
     "end_time": "2019-03-31T12:54:46.587517Z",
     "start_time": "2019-03-31T12:54:40.179091Z"
    }
   },
   "outputs": [
    {
     "name": "stderr",
     "output_type": "stream",
     "text": [
      "Using TensorFlow backend.\n"
     ]
    }
   ],
   "source": [
    "import keras\n",
    "from sklearn.preprocessing import LabelEncoder\n",
    "\n",
    "lb = LabelEncoder()\n",
    "train_y = lb.fit_transform(train.Class)\n",
    "train_y = keras.utils.np_utils.to_categorical(train_y)"
   ]
  },
  {
   "cell_type": "code",
   "execution_count": 13,
   "metadata": {
    "ExecuteTime": {
     "end_time": "2019-03-31T12:54:46.595348Z",
     "start_time": "2019-03-31T12:54:46.590376Z"
    }
   },
   "outputs": [
    {
     "name": "stdout",
     "output_type": "stream",
     "text": [
      "[[1. 0. 0.]\n",
      " [0. 0. 1.]\n",
      " [1. 0. 0.]\n",
      " ...\n",
      " [1. 0. 0.]\n",
      " [1. 0. 0.]\n",
      " [1. 0. 0.]]\n"
     ]
    }
   ],
   "source": [
    "print(train_y)"
   ]
  },
  {
   "cell_type": "code",
   "execution_count": 14,
   "metadata": {
    "ExecuteTime": {
     "end_time": "2019-03-31T12:54:47.422369Z",
     "start_time": "2019-03-31T12:54:46.600355Z"
    }
   },
   "outputs": [],
   "source": [
    "input_num_units = (32, 32, 2)\n",
    "hidden_num_units = 500\n",
    "output_num_units = 3"
   ]
  },
  {
   "cell_type": "code",
   "execution_count": 15,
   "metadata": {
    "ExecuteTime": {
     "end_time": "2019-03-31T12:54:48.197358Z",
     "start_time": "2019-03-31T12:54:47.424353Z"
    }
   },
   "outputs": [],
   "source": [
    "epochs = 100\n",
    "batch_size = 56"
   ]
  },
  {
   "cell_type": "code",
   "execution_count": 16,
   "metadata": {
    "ExecuteTime": {
     "end_time": "2019-03-31T12:54:48.864487Z",
     "start_time": "2019-03-31T12:54:48.200346Z"
    }
   },
   "outputs": [],
   "source": [
    "from keras.models import Sequential\n",
    "from keras.layers import Dense, Flatten, InputLayer"
   ]
  },
  {
   "cell_type": "code",
   "execution_count": 17,
   "metadata": {
    "ExecuteTime": {
     "end_time": "2019-03-31T12:54:50.067582Z",
     "start_time": "2019-03-31T12:54:48.866486Z"
    }
   },
   "outputs": [],
   "source": [
    "model = Sequential([\n",
    "    InputLayer(input_shape=input_num_units),\n",
    "    Flatten(),\n",
    "    Dense(units=hidden_num_units, activation='relu'),\n",
    "    Dense(units=hidden_num_units, activation='relu'),\n",
    "    Dense(units=hidden_num_units, activation='relu'),\n",
    "    Dense(units=output_num_units, activation='softmax'),\n",
    "])"
   ]
  },
  {
   "cell_type": "code",
   "execution_count": 18,
   "metadata": {
    "ExecuteTime": {
     "end_time": "2019-03-31T12:54:50.512480Z",
     "start_time": "2019-03-31T12:54:50.069504Z"
    }
   },
   "outputs": [
    {
     "name": "stdout",
     "output_type": "stream",
     "text": [
      "_________________________________________________________________\n",
      "Layer (type)                 Output Shape              Param #   \n",
      "=================================================================\n",
      "flatten_1 (Flatten)          (None, 2048)              0         \n",
      "_________________________________________________________________\n",
      "dense_1 (Dense)              (None, 500)               1024500   \n",
      "_________________________________________________________________\n",
      "dense_2 (Dense)              (None, 500)               250500    \n",
      "_________________________________________________________________\n",
      "dense_3 (Dense)              (None, 500)               250500    \n",
      "_________________________________________________________________\n",
      "dense_4 (Dense)              (None, 3)                 1503      \n",
      "=================================================================\n",
      "Total params: 1,527,003\n",
      "Trainable params: 1,527,003\n",
      "Non-trainable params: 0\n",
      "_________________________________________________________________\n"
     ]
    }
   ],
   "source": [
    "model.summary()"
   ]
  },
  {
   "cell_type": "code",
   "execution_count": 19,
   "metadata": {
    "ExecuteTime": {
     "end_time": "2019-03-31T12:54:51.540650Z",
     "start_time": "2019-03-31T12:54:50.515487Z"
    }
   },
   "outputs": [],
   "source": [
    "model.compile(optimizer='sgd', loss='categorical_crossentropy', metrics=['accuracy'])"
   ]
  },
  {
   "cell_type": "code",
   "execution_count": 20,
   "metadata": {
    "ExecuteTime": {
     "end_time": "2019-03-31T13:09:53.612106Z",
     "start_time": "2019-03-31T12:54:51.543486Z"
    }
   },
   "outputs": [
    {
     "name": "stdout",
     "output_type": "stream",
     "text": [
      "Train on 15924 samples, validate on 3982 samples\n",
      "Epoch 1/100\n",
      "15924/15924 [==============================] - 8s 522us/step - loss: 0.9395 - acc: 0.5439 - val_loss: 0.9492 - val_acc: 0.5439\n",
      "Epoch 2/100\n",
      "15924/15924 [==============================] - 8s 488us/step - loss: 0.9099 - acc: 0.5630 - val_loss: 0.9352 - val_acc: 0.4970\n",
      "Epoch 3/100\n",
      "15924/15924 [==============================] - 8s 483us/step - loss: 0.8916 - acc: 0.5777 - val_loss: 0.8869 - val_acc: 0.5932\n",
      "Epoch 4/100\n",
      "15924/15924 [==============================] - 8s 504us/step - loss: 0.8822 - acc: 0.5808 - val_loss: 0.8835 - val_acc: 0.5660\n",
      "Epoch 5/100\n",
      "15924/15924 [==============================] - 9s 536us/step - loss: 0.8740 - acc: 0.5836 - val_loss: 0.8732 - val_acc: 0.5748\n",
      "Epoch 6/100\n",
      "15924/15924 [==============================] - 9s 585us/step - loss: 0.8664 - acc: 0.5861 - val_loss: 0.9367 - val_acc: 0.5131\n",
      "Epoch 7/100\n",
      "15924/15924 [==============================] - 9s 546us/step - loss: 0.8612 - acc: 0.5919 - val_loss: 0.9156 - val_acc: 0.5648\n",
      "Epoch 8/100\n",
      "15924/15924 [==============================] - 10s 640us/step - loss: 0.8550 - acc: 0.5951 - val_loss: 0.8554 - val_acc: 0.5909\n",
      "Epoch 9/100\n",
      "15924/15924 [==============================] - 10s 620us/step - loss: 0.8562 - acc: 0.5915 - val_loss: 0.8535 - val_acc: 0.5992\n",
      "Epoch 10/100\n",
      "15924/15924 [==============================] - 10s 618us/step - loss: 0.8494 - acc: 0.5988 - val_loss: 0.9101 - val_acc: 0.5552\n",
      "Epoch 11/100\n",
      "15924/15924 [==============================] - 10s 597us/step - loss: 0.8439 - acc: 0.5997 - val_loss: 0.8647 - val_acc: 0.5944\n",
      "Epoch 12/100\n",
      "15924/15924 [==============================] - 9s 586us/step - loss: 0.8435 - acc: 0.5990 - val_loss: 0.8516 - val_acc: 0.6175\n",
      "Epoch 13/100\n",
      "15924/15924 [==============================] - 9s 559us/step - loss: 0.8380 - acc: 0.6051 - val_loss: 0.8863 - val_acc: 0.5753\n",
      "Epoch 14/100\n",
      "15924/15924 [==============================] - 9s 552us/step - loss: 0.8335 - acc: 0.6085 - val_loss: 0.8593 - val_acc: 0.5849\n",
      "Epoch 15/100\n",
      "15924/15924 [==============================] - 9s 546us/step - loss: 0.8336 - acc: 0.6082 - val_loss: 0.9638 - val_acc: 0.5565\n",
      "Epoch 16/100\n",
      "15924/15924 [==============================] - 9s 577us/step - loss: 0.8301 - acc: 0.6054 - val_loss: 0.9008 - val_acc: 0.5660\n",
      "Epoch 17/100\n",
      "15924/15924 [==============================] - 11s 661us/step - loss: 0.8263 - acc: 0.6101 - val_loss: 0.8182 - val_acc: 0.6153\n",
      "Epoch 18/100\n",
      "15924/15924 [==============================] - 10s 603us/step - loss: 0.8266 - acc: 0.6095 - val_loss: 0.8184 - val_acc: 0.6228\n",
      "Epoch 19/100\n",
      "15924/15924 [==============================] - 10s 633us/step - loss: 0.8240 - acc: 0.6112 - val_loss: 0.8137 - val_acc: 0.6180\n",
      "Epoch 20/100\n",
      "15924/15924 [==============================] - 11s 669us/step - loss: 0.8187 - acc: 0.6134 - val_loss: 0.8329 - val_acc: 0.6045\n",
      "Epoch 21/100\n",
      "15924/15924 [==============================] - 10s 656us/step - loss: 0.8197 - acc: 0.6113 - val_loss: 0.8863 - val_acc: 0.5671\n",
      "Epoch 22/100\n",
      "15924/15924 [==============================] - 10s 620us/step - loss: 0.8162 - acc: 0.6180 - val_loss: 0.8674 - val_acc: 0.5786\n",
      "Epoch 23/100\n",
      "15924/15924 [==============================] - 11s 703us/step - loss: 0.8128 - acc: 0.6181 - val_loss: 0.8064 - val_acc: 0.6195\n",
      "Epoch 24/100\n",
      "15924/15924 [==============================] - 9s 595us/step - loss: 0.8102 - acc: 0.6192 - val_loss: 0.8626 - val_acc: 0.5861\n",
      "Epoch 25/100\n",
      "15924/15924 [==============================] - 10s 646us/step - loss: 0.8113 - acc: 0.6172 - val_loss: 0.8152 - val_acc: 0.6163\n",
      "Epoch 26/100\n",
      "15924/15924 [==============================] - 10s 610us/step - loss: 0.8091 - acc: 0.6195 - val_loss: 0.8023 - val_acc: 0.6180\n",
      "Epoch 27/100\n",
      "15924/15924 [==============================] - 10s 631us/step - loss: 0.8036 - acc: 0.6209 - val_loss: 0.8427 - val_acc: 0.6010\n",
      "Epoch 28/100\n",
      "15924/15924 [==============================] - 9s 561us/step - loss: 0.8048 - acc: 0.6231 - val_loss: 0.8180 - val_acc: 0.6135\n",
      "Epoch 29/100\n",
      "15924/15924 [==============================] - 10s 636us/step - loss: 0.8019 - acc: 0.6236 - val_loss: 0.8777 - val_acc: 0.5804\n",
      "Epoch 30/100\n",
      "15924/15924 [==============================] - 10s 650us/step - loss: 0.8033 - acc: 0.6253 - val_loss: 0.8473 - val_acc: 0.5831\n",
      "Epoch 31/100\n",
      "15924/15924 [==============================] - 10s 623us/step - loss: 0.7956 - acc: 0.6274 - val_loss: 0.8777 - val_acc: 0.5909\n",
      "Epoch 32/100\n",
      "15924/15924 [==============================] - 9s 585us/step - loss: 0.7970 - acc: 0.6311 - val_loss: 0.7961 - val_acc: 0.6190\n",
      "Epoch 33/100\n",
      "15924/15924 [==============================] - 8s 502us/step - loss: 0.7943 - acc: 0.6293 - val_loss: 0.8464 - val_acc: 0.6017\n",
      "Epoch 34/100\n",
      "15924/15924 [==============================] - 8s 507us/step - loss: 0.7940 - acc: 0.6280 - val_loss: 0.8200 - val_acc: 0.6205\n",
      "Epoch 35/100\n",
      "15924/15924 [==============================] - 11s 694us/step - loss: 0.7895 - acc: 0.6328 - val_loss: 0.8626 - val_acc: 0.5904\n",
      "Epoch 36/100\n",
      "15924/15924 [==============================] - 10s 650us/step - loss: 0.7879 - acc: 0.6321 - val_loss: 0.7859 - val_acc: 0.6379\n",
      "Epoch 37/100\n",
      "15924/15924 [==============================] - 8s 529us/step - loss: 0.7877 - acc: 0.6355 - val_loss: 0.7805 - val_acc: 0.6359\n",
      "Epoch 38/100\n",
      "15924/15924 [==============================] - 10s 630us/step - loss: 0.7857 - acc: 0.6348 - val_loss: 0.8352 - val_acc: 0.6040\n",
      "Epoch 39/100\n",
      "15924/15924 [==============================] - 9s 594us/step - loss: 0.7850 - acc: 0.6355 - val_loss: 0.8750 - val_acc: 0.5773\n",
      "Epoch 40/100\n",
      "15924/15924 [==============================] - 10s 642us/step - loss: 0.7820 - acc: 0.6383 - val_loss: 0.8211 - val_acc: 0.6055\n",
      "Epoch 41/100\n",
      "15924/15924 [==============================] - 10s 643us/step - loss: 0.7813 - acc: 0.6357 - val_loss: 0.7906 - val_acc: 0.6301\n",
      "Epoch 42/100\n",
      "15924/15924 [==============================] - 10s 601us/step - loss: 0.7791 - acc: 0.6400 - val_loss: 0.8114 - val_acc: 0.6138\n",
      "Epoch 43/100\n",
      "15924/15924 [==============================] - 10s 620us/step - loss: 0.7765 - acc: 0.6406 - val_loss: 0.7757 - val_acc: 0.6386\n",
      "Epoch 44/100\n",
      "15924/15924 [==============================] - 11s 678us/step - loss: 0.7747 - acc: 0.6428 - val_loss: 0.8118 - val_acc: 0.6120\n",
      "Epoch 45/100\n",
      "15924/15924 [==============================] - 9s 593us/step - loss: 0.7742 - acc: 0.6394 - val_loss: 0.7857 - val_acc: 0.6226\n",
      "Epoch 46/100\n",
      "15924/15924 [==============================] - 9s 549us/step - loss: 0.7727 - acc: 0.6420 - val_loss: 0.7984 - val_acc: 0.6278\n",
      "Epoch 47/100\n",
      "15924/15924 [==============================] - 9s 583us/step - loss: 0.7716 - acc: 0.6448 - val_loss: 0.7934 - val_acc: 0.6246\n",
      "Epoch 48/100\n",
      "15924/15924 [==============================] - 9s 542us/step - loss: 0.7671 - acc: 0.6463 - val_loss: 0.8058 - val_acc: 0.6288\n",
      "Epoch 49/100\n",
      "15924/15924 [==============================] - 9s 578us/step - loss: 0.7654 - acc: 0.6469 - val_loss: 0.8011 - val_acc: 0.6203\n",
      "Epoch 50/100\n",
      "15924/15924 [==============================] - 8s 510us/step - loss: 0.7661 - acc: 0.6444 - val_loss: 0.8329 - val_acc: 0.6296\n",
      "Epoch 51/100\n",
      "15924/15924 [==============================] - 9s 543us/step - loss: 0.7662 - acc: 0.6486 - val_loss: 0.8280 - val_acc: 0.5846\n",
      "Epoch 52/100\n",
      "15924/15924 [==============================] - 8s 504us/step - loss: 0.7624 - acc: 0.6480 - val_loss: 0.7820 - val_acc: 0.6487\n",
      "Epoch 53/100\n",
      "15924/15924 [==============================] - 8s 501us/step - loss: 0.7611 - acc: 0.6493 - val_loss: 0.8042 - val_acc: 0.6123\n",
      "Epoch 54/100\n",
      "15924/15924 [==============================] - 8s 495us/step - loss: 0.7605 - acc: 0.6532 - val_loss: 0.8308 - val_acc: 0.6050\n",
      "Epoch 55/100\n",
      "15924/15924 [==============================] - 8s 482us/step - loss: 0.7550 - acc: 0.6529 - val_loss: 0.7711 - val_acc: 0.6431\n",
      "Epoch 56/100\n",
      "15924/15924 [==============================] - 8s 492us/step - loss: 0.7548 - acc: 0.6512 - val_loss: 0.8042 - val_acc: 0.6236\n",
      "Epoch 57/100\n",
      "15924/15924 [==============================] - 9s 538us/step - loss: 0.7536 - acc: 0.6537 - val_loss: 0.9653 - val_acc: 0.5495\n",
      "Epoch 58/100\n",
      "15924/15924 [==============================] - 9s 544us/step - loss: 0.7527 - acc: 0.6556 - val_loss: 0.7938 - val_acc: 0.6391\n",
      "Epoch 59/100\n"
     ]
    },
    {
     "name": "stdout",
     "output_type": "stream",
     "text": [
      "15924/15924 [==============================] - 9s 535us/step - loss: 0.7486 - acc: 0.6584 - val_loss: 0.8380 - val_acc: 0.6138\n",
      "Epoch 60/100\n",
      "15924/15924 [==============================] - 9s 566us/step - loss: 0.7468 - acc: 0.6591 - val_loss: 0.9598 - val_acc: 0.5615\n",
      "Epoch 61/100\n",
      "15924/15924 [==============================] - 9s 573us/step - loss: 0.7477 - acc: 0.6566 - val_loss: 0.7939 - val_acc: 0.6351\n",
      "Epoch 62/100\n",
      "15924/15924 [==============================] - 10s 601us/step - loss: 0.7466 - acc: 0.6572 - val_loss: 0.8258 - val_acc: 0.5904\n",
      "Epoch 63/100\n",
      "15924/15924 [==============================] - 9s 567us/step - loss: 0.7436 - acc: 0.6588 - val_loss: 0.7892 - val_acc: 0.6308\n",
      "Epoch 64/100\n",
      "15924/15924 [==============================] - 9s 590us/step - loss: 0.7401 - acc: 0.6638 - val_loss: 0.9308 - val_acc: 0.5113\n",
      "Epoch 65/100\n",
      "15924/15924 [==============================] - 9s 590us/step - loss: 0.7436 - acc: 0.6638 - val_loss: 0.7768 - val_acc: 0.6429\n",
      "Epoch 66/100\n",
      "15924/15924 [==============================] - 9s 571us/step - loss: 0.7400 - acc: 0.6621 - val_loss: 0.7943 - val_acc: 0.6223\n",
      "Epoch 67/100\n",
      "15924/15924 [==============================] - 8s 482us/step - loss: 0.7358 - acc: 0.6639 - val_loss: 0.8451 - val_acc: 0.5829\n",
      "Epoch 68/100\n",
      "15924/15924 [==============================] - 8s 480us/step - loss: 0.7342 - acc: 0.6667 - val_loss: 0.7891 - val_acc: 0.6346\n",
      "Epoch 69/100\n",
      "15924/15924 [==============================] - 8s 529us/step - loss: 0.7324 - acc: 0.6694 - val_loss: 0.7633 - val_acc: 0.6452\n",
      "Epoch 70/100\n",
      "15924/15924 [==============================] - 8s 492us/step - loss: 0.7306 - acc: 0.6659 - val_loss: 0.8015 - val_acc: 0.6158\n",
      "Epoch 71/100\n",
      "15924/15924 [==============================] - 9s 552us/step - loss: 0.7324 - acc: 0.6676 - val_loss: 0.7808 - val_acc: 0.6341\n",
      "Epoch 72/100\n",
      "15924/15924 [==============================] - 9s 535us/step - loss: 0.7267 - acc: 0.6708 - val_loss: 0.7920 - val_acc: 0.6344\n",
      "Epoch 73/100\n",
      "15924/15924 [==============================] - 8s 485us/step - loss: 0.7252 - acc: 0.6709 - val_loss: 0.7544 - val_acc: 0.6602\n",
      "Epoch 74/100\n",
      "15924/15924 [==============================] - 8s 486us/step - loss: 0.7243 - acc: 0.6726 - val_loss: 0.7938 - val_acc: 0.6155\n",
      "Epoch 75/100\n",
      "15924/15924 [==============================] - 8s 489us/step - loss: 0.7243 - acc: 0.6692 - val_loss: 0.7624 - val_acc: 0.6454\n",
      "Epoch 76/100\n",
      "15924/15924 [==============================] - 8s 518us/step - loss: 0.7193 - acc: 0.6735 - val_loss: 0.9187 - val_acc: 0.5861\n",
      "Epoch 77/100\n",
      "15924/15924 [==============================] - 8s 512us/step - loss: 0.7165 - acc: 0.6765 - val_loss: 0.7671 - val_acc: 0.6457\n",
      "Epoch 78/100\n",
      "15924/15924 [==============================] - 8s 504us/step - loss: 0.7170 - acc: 0.6741 - val_loss: 0.7509 - val_acc: 0.6572\n",
      "Epoch 79/100\n",
      "15924/15924 [==============================] - 8s 509us/step - loss: 0.7146 - acc: 0.6757 - val_loss: 0.7517 - val_acc: 0.6464\n",
      "Epoch 80/100\n",
      "15924/15924 [==============================] - 8s 493us/step - loss: 0.7201 - acc: 0.6740 - val_loss: 0.8125 - val_acc: 0.6220\n",
      "Epoch 81/100\n",
      "15924/15924 [==============================] - 8s 492us/step - loss: 0.7127 - acc: 0.6771 - val_loss: 0.7607 - val_acc: 0.6532\n",
      "Epoch 82/100\n",
      "15924/15924 [==============================] - 8s 494us/step - loss: 0.7101 - acc: 0.6793 - val_loss: 0.8191 - val_acc: 0.6487\n",
      "Epoch 83/100\n",
      "15924/15924 [==============================] - 8s 525us/step - loss: 0.7132 - acc: 0.6753 - val_loss: 0.8464 - val_acc: 0.6040\n",
      "Epoch 84/100\n",
      "15924/15924 [==============================] - 10s 649us/step - loss: 0.7075 - acc: 0.6794 - val_loss: 0.7816 - val_acc: 0.6313\n",
      "Epoch 85/100\n",
      "15924/15924 [==============================] - 10s 614us/step - loss: 0.7040 - acc: 0.6819 - val_loss: 0.7809 - val_acc: 0.6359025\n",
      "Epoch 86/100\n",
      "15924/15924 [==============================] - 9s 595us/step - loss: 0.7045 - acc: 0.6841 - val_loss: 0.7922 - val_acc: 0.6459\n",
      "Epoch 87/100\n",
      "15924/15924 [==============================] - 9s 540us/step - loss: 0.7029 - acc: 0.6824 - val_loss: 0.7729 - val_acc: 0.6396\n",
      "Epoch 88/100\n",
      "15924/15924 [==============================] - 8s 521us/step - loss: 0.6992 - acc: 0.6838 - val_loss: 0.7748 - val_acc: 0.6416\n",
      "Epoch 89/100\n",
      "15924/15924 [==============================] - 10s 636us/step - loss: 0.6986 - acc: 0.6863 - val_loss: 0.7687 - val_acc: 0.6364\n",
      "Epoch 90/100\n",
      "15924/15924 [==============================] - 10s 648us/step - loss: 0.7000 - acc: 0.6870 - val_loss: 0.9041 - val_acc: 0.5249\n",
      "Epoch 91/100\n",
      "15924/15924 [==============================] - 10s 657us/step - loss: 0.6959 - acc: 0.6873 - val_loss: 0.7419 - val_acc: 0.6612\n",
      "Epoch 92/100\n",
      "15924/15924 [==============================] - 10s 613us/step - loss: 0.6938 - acc: 0.6909 - val_loss: 0.7519 - val_acc: 0.6612\n",
      "Epoch 93/100\n",
      "15924/15924 [==============================] - 10s 601us/step - loss: 0.6932 - acc: 0.6888 - val_loss: 0.7612 - val_acc: 0.6489\n",
      "Epoch 94/100\n",
      "15924/15924 [==============================] - 9s 547us/step - loss: 0.6900 - acc: 0.6900 - val_loss: 0.7566 - val_acc: 0.6441\n",
      "Epoch 95/100\n",
      "15924/15924 [==============================] - 9s 544us/step - loss: 0.6868 - acc: 0.6904 - val_loss: 0.7489 - val_acc: 0.6577\n",
      "Epoch 96/100\n",
      "15924/15924 [==============================] - 8s 487us/step - loss: 0.6852 - acc: 0.6925 - val_loss: 0.7688 - val_acc: 0.6404\n",
      "Epoch 97/100\n",
      "15924/15924 [==============================] - 8s 477us/step - loss: 0.6843 - acc: 0.6925 - val_loss: 0.7570 - val_acc: 0.6529\n",
      "Epoch 98/100\n",
      "15924/15924 [==============================] - 8s 477us/step - loss: 0.6820 - acc: 0.6947 - val_loss: 0.7331 - val_acc: 0.6700\n",
      "Epoch 99/100\n",
      "15924/15924 [==============================] - 8s 476us/step - loss: 0.6820 - acc: 0.6953 - val_loss: 0.8048 - val_acc: 0.6376\n",
      "Epoch 100/100\n",
      "15924/15924 [==============================] - 9s 539us/step - loss: 0.6807 - acc: 0.6989 - val_loss: 0.7458 - val_acc: 0.6645\n"
     ]
    },
    {
     "data": {
      "text/plain": [
       "<keras.callbacks.History at 0x234d0096d68>"
      ]
     },
     "execution_count": 20,
     "metadata": {},
     "output_type": "execute_result"
    }
   ],
   "source": [
    "model.fit(train_x, train_y, batch_size=batch_size,epochs=epochs,verbose=1, validation_split=0.2)"
   ]
  },
  {
   "cell_type": "code",
   "execution_count": 21,
   "metadata": {
    "ExecuteTime": {
     "end_time": "2019-03-31T13:09:54.963091Z",
     "start_time": "2019-03-31T13:09:53.616096Z"
    }
   },
   "outputs": [],
   "source": [
    "pred = model.predict_classes(test_x)\n",
    "pred = lb.inverse_transform(pred)\n",
    "test['Class'] = pred\n",
    "test.to_csv('sub01.csv', index=False)"
   ]
  },
  {
   "cell_type": "code",
   "execution_count": 22,
   "metadata": {
    "ExecuteTime": {
     "end_time": "2019-03-31T13:09:58.466091Z",
     "start_time": "2019-03-31T13:09:54.966094Z"
    }
   },
   "outputs": [
    {
     "name": "stderr",
     "output_type": "stream",
     "text": [
      "C:\\ProgramData\\Anaconda3\\envs\\tensor1\\lib\\site-packages\\skimage\\transform\\_warps.py:105: UserWarning: The default mode, 'constant', will be changed to 'reflect' in skimage 0.15.\n",
      "  warn(\"The default mode, 'constant', will be changed to 'reflect' in \"\n",
      "C:\\ProgramData\\Anaconda3\\envs\\tensor1\\lib\\site-packages\\skimage\\transform\\_warps.py:110: UserWarning: Anti-aliasing will be enabled by default in skimage 0.15 to avoid aliasing artifacts when down-sampling images.\n",
      "  warn(\"Anti-aliasing will be enabled by default in skimage 0.15 to \"\n"
     ]
    },
    {
     "name": "stdout",
     "output_type": "stream",
     "text": [
      "3\n"
     ]
    },
    {
     "data": {
      "image/png": "[encoded data removed]",
      "text/plain": [
       "<Figure size 432x288 with 1 Axes>"
      ]
     },
     "metadata": {
      "needs_background": "light"
     },
     "output_type": "display_data"
    }
   ],
   "source": [
    "from skimage.io import imshow\n",
    "i = random.choice(train.index)\n",
    "img_name = train.ID[2]\n",
    "\n",
    "img = cv2.imread(os.path.join('./Train', img_name))\n",
    "#plt.imshow(img)\n",
    "imshow(resize(img, (128,128)))\n",
    "pred = model.predict_classes(train_x)\n",
    "#print('Original:', train.Class[i], 'Predicted:', lb.inverse_transform(pred[i]))\n",
    "print(len(set(pred)))\n",
    "plt.show()"
   ]
  },
  {
   "cell_type": "code",
   "execution_count": null,
   "metadata": {},
   "outputs": [],
   "source": []
  },
  {
   "cell_type": "code",
   "execution_count": null,
   "metadata": {},
   "outputs": [],
   "source": []
  }
 ],
 "metadata": {
  "kernelspec": {
   "display_name": "Python 3",
   "language": "python",
   "name": "python3"
  },
  "language_info": {
   "codemirror_mode": {
    "name": "ipython",
    "version": 3
   },
   "file_extension": ".py",
   "mimetype": "text/x-python",
   "name": "python",
   "nbconvert_exporter": "python",
   "pygments_lexer": "ipython3",
   "version": "3.6.8"
  }
 },
 "nbformat": 4,
 "nbformat_minor": 2
}
