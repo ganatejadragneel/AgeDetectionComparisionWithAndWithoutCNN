{
 "cells": [
  {
   "cell_type": "code",
   "execution_count": 9,
   "metadata": {
    "ExecuteTime": {
     "end_time": "2019-06-24T20:37:07.581547Z",
     "start_time": "2019-06-24T20:36:51.091448Z"
    },
    "scrolled": true
   },
   "outputs": [],
   "source": [
    "%matplotlib inline"
   ]
  },
  {
   "cell_type": "code",
   "execution_count": 8,
   "metadata": {
    "ExecuteTime": {
     "end_time": "2019-06-24T20:37:41.863943Z",
     "start_time": "2019-06-24T20:37:09.118613Z"
    }
   },
   "outputs": [],
   "source": [
    "import os\n",
    "from PIL import Image\n",
    "import random\n",
    "import matplotlib.pyplot as plt\n",
    "import pandas as pd\n",
    "import numpy as np"
   ]
  },
  {
   "cell_type": "code",
   "execution_count": 2,
   "metadata": {
    "ExecuteTime": {
     "end_time": "2019-06-25T15:32:01.056257Z",
     "start_time": "2019-06-25T15:32:01.036254Z"
    }
   },
   "outputs": [],
   "source": [
    "from IPython.display import clear_output\n",
    "import cv2"
   ]
  },
  {
   "cell_type": "code",
   "execution_count": 1,
   "metadata": {
    "ExecuteTime": {
     "end_time": "2019-06-25T15:41:27.333975Z",
     "start_time": "2019-06-25T15:41:27.243966Z"
    }
   },
   "outputs": [
    {
     "name": "stderr",
     "output_type": "stream",
     "text": [
      "Using TensorFlow backend.\n"
     ]
    }
   ],
   "source": [
    "import keras\n",
    "from sklearn.preprocessing import LabelEncoder\n",
    "from keras.models import Sequential\n",
    "from keras.layers import Dense, Flatten, Conv2D, InputLayer, Dropout"
   ]
  },
  {
   "cell_type": "code",
   "execution_count": 10,
   "metadata": {
    "ExecuteTime": {
     "end_time": "2019-06-24T20:38:09.363208Z",
     "start_time": "2019-06-24T20:38:06.259Z"
    }
   },
   "outputs": [],
   "source": [
    "train = pd.read_csv(\"./train.csv\")\n",
    "test = pd.read_csv(\"./test.csv\")"
   ]
  },
  {
   "cell_type": "code",
   "execution_count": 11,
   "metadata": {
    "ExecuteTime": {
     "end_time": "2019-06-24T20:38:09.366208Z",
     "start_time": "2019-06-24T20:38:07.667Z"
    }
   },
   "outputs": [
    {
     "data": {
      "text/html": [
       "<div>\n",
       "<style scoped>\n",
       "    .dataframe tbody tr th:only-of-type {\n",
       "        vertical-align: middle;\n",
       "    }\n",
       "\n",
       "    .dataframe tbody tr th {\n",
       "        vertical-align: top;\n",
       "    }\n",
       "\n",
       "    .dataframe thead th {\n",
       "        text-align: right;\n",
       "    }\n",
       "</style>\n",
       "<table border=\"1\" class=\"dataframe\">\n",
       "  <thead>\n",
       "    <tr style=\"text-align: right;\">\n",
       "      <th></th>\n",
       "      <th>ID</th>\n",
       "      <th>Class</th>\n",
       "    </tr>\n",
       "  </thead>\n",
       "  <tbody>\n",
       "    <tr>\n",
       "      <th>0</th>\n",
       "      <td>377.jpg</td>\n",
       "      <td>MIDDLE</td>\n",
       "    </tr>\n",
       "    <tr>\n",
       "      <th>1</th>\n",
       "      <td>17814.jpg</td>\n",
       "      <td>YOUNG</td>\n",
       "    </tr>\n",
       "    <tr>\n",
       "      <th>2</th>\n",
       "      <td>21283.jpg</td>\n",
       "      <td>MIDDLE</td>\n",
       "    </tr>\n",
       "    <tr>\n",
       "      <th>3</th>\n",
       "      <td>16496.jpg</td>\n",
       "      <td>YOUNG</td>\n",
       "    </tr>\n",
       "    <tr>\n",
       "      <th>4</th>\n",
       "      <td>4487.jpg</td>\n",
       "      <td>MIDDLE</td>\n",
       "    </tr>\n",
       "  </tbody>\n",
       "</table>\n",
       "</div>"
      ],
      "text/plain": [
       "          ID   Class\n",
       "0    377.jpg  MIDDLE\n",
       "1  17814.jpg   YOUNG\n",
       "2  21283.jpg  MIDDLE\n",
       "3  16496.jpg   YOUNG\n",
       "4   4487.jpg  MIDDLE"
      ]
     },
     "execution_count": 11,
     "metadata": {},
     "output_type": "execute_result"
    }
   ],
   "source": [
    "train.head()"
   ]
  },
  {
   "cell_type": "code",
   "execution_count": 12,
   "metadata": {
    "ExecuteTime": {
     "end_time": "2019-06-24T20:38:09.370206Z",
     "start_time": "2019-06-24T20:38:08.662Z"
    }
   },
   "outputs": [
    {
     "data": {
      "text/html": [
       "<div>\n",
       "<style scoped>\n",
       "    .dataframe tbody tr th:only-of-type {\n",
       "        vertical-align: middle;\n",
       "    }\n",
       "\n",
       "    .dataframe tbody tr th {\n",
       "        vertical-align: top;\n",
       "    }\n",
       "\n",
       "    .dataframe thead th {\n",
       "        text-align: right;\n",
       "    }\n",
       "</style>\n",
       "<table border=\"1\" class=\"dataframe\">\n",
       "  <thead>\n",
       "    <tr style=\"text-align: right;\">\n",
       "      <th></th>\n",
       "      <th>ID</th>\n",
       "    </tr>\n",
       "  </thead>\n",
       "  <tbody>\n",
       "    <tr>\n",
       "      <th>0</th>\n",
       "      <td>25321.jpg</td>\n",
       "    </tr>\n",
       "    <tr>\n",
       "      <th>1</th>\n",
       "      <td>989.jpg</td>\n",
       "    </tr>\n",
       "    <tr>\n",
       "      <th>2</th>\n",
       "      <td>19277.jpg</td>\n",
       "    </tr>\n",
       "    <tr>\n",
       "      <th>3</th>\n",
       "      <td>13093.jpg</td>\n",
       "    </tr>\n",
       "    <tr>\n",
       "      <th>4</th>\n",
       "      <td>5367.jpg</td>\n",
       "    </tr>\n",
       "  </tbody>\n",
       "</table>\n",
       "</div>"
      ],
      "text/plain": [
       "          ID\n",
       "0  25321.jpg\n",
       "1    989.jpg\n",
       "2  19277.jpg\n",
       "3  13093.jpg\n",
       "4   5367.jpg"
      ]
     },
     "execution_count": 12,
     "metadata": {},
     "output_type": "execute_result"
    }
   ],
   "source": [
    "test.head()"
   ]
  },
  {
   "cell_type": "code",
   "execution_count": 13,
   "metadata": {
    "ExecuteTime": {
     "end_time": "2019-06-24T20:38:09.994254Z",
     "start_time": "2019-06-24T20:38:09.976251Z"
    }
   },
   "outputs": [
    {
     "name": "stdout",
     "output_type": "stream",
     "text": [
      "Age:  MIDDLE\n"
     ]
    },
    {
     "data": {
      "image/png": "[encoded data removed]",
      "text/plain": [
       "<Figure size 432x288 with 1 Axes>"
      ]
     },
     "metadata": {
      "needs_background": "light"
     },
     "output_type": "display_data"
    }
   ],
   "source": [
    "i = random.choice(train.index)\n",
    "\n",
    "img_name = train.ID[i]\n",
    "img = cv2.imread(os.path.join('./Train', img_name))\n",
    "\n",
    "print('Age: ', train.Class[i])\n",
    "plt.imshow(img)\n",
    "plt.show()"
   ]
  },
  {
   "cell_type": "code",
   "execution_count": 14,
   "metadata": {
    "ExecuteTime": {
     "end_time": "2019-04-09T21:37:31.656698Z",
     "start_time": "2019-04-09T21:37:30.729Z"
    }
   },
   "outputs": [],
   "source": [
    "from sklearn.model_selection import train_test_split"
   ]
  },
  {
   "cell_type": "code",
   "execution_count": 15,
   "metadata": {
    "ExecuteTime": {
     "end_time": "2019-04-09T21:37:31.660672Z",
     "start_time": "2019-04-09T21:37:31.292Z"
    }
   },
   "outputs": [
    {
     "name": "stdout",
     "output_type": "stream",
     "text": [
      "19906\n"
     ]
    }
   ],
   "source": [
    "temp = []\n",
    "count = 0\n",
    "for img_name in train.ID:\n",
    "    img_path = os.path.join('./Train/', img_name)\n",
    "    img = Image.open(img_path).convert('LA')\n",
    "    img = img.resize((64, 64))\n",
    "    temp.append(img)\n",
    "    clear_output()\n",
    "    count+=1\n",
    "    print(count)\n",
    "\n",
    "train_x = np.stack(temp)"
   ]
  },
  {
   "cell_type": "code",
   "execution_count": 16,
   "metadata": {
    "ExecuteTime": {
     "end_time": "2019-04-09T21:37:31.895882Z",
     "start_time": "2019-04-09T21:37:31.871295Z"
    }
   },
   "outputs": [
    {
     "name": "stdout",
     "output_type": "stream",
     "text": [
      "6636\n"
     ]
    }
   ],
   "source": [
    "temp = []\n",
    "count = 0\n",
    "for img_name in test.ID:\n",
    "    img_path = os.path.join('./Test/', img_name)\n",
    "    img = Image.open(img_path).convert('LA')\n",
    "    img = img.resize((64, 64))\n",
    "    temp.append(img)\n",
    "    clear_output()\n",
    "    count+=1\n",
    "    print(count)\n",
    "\n",
    "test_x = np.stack(temp)"
   ]
  },
  {
   "cell_type": "code",
   "execution_count": 17,
   "metadata": {
    "ExecuteTime": {
     "end_time": "2019-04-09T21:35:08.969816Z",
     "start_time": "2019-04-09T21:34:05.387Z"
    }
   },
   "outputs": [],
   "source": [
    "train_x = train_x / 255.\n",
    "test_x = test_x / 255."
   ]
  },
  {
   "cell_type": "code",
   "execution_count": 18,
   "metadata": {
    "ExecuteTime": {
     "end_time": "2019-04-09T21:35:08.973484Z",
     "start_time": "2019-04-09T21:34:05.394Z"
    }
   },
   "outputs": [
    {
     "data": {
      "text/plain": [
       "MIDDLE    0.542751\n",
       "YOUNG     0.336883\n",
       "OLD       0.120366\n",
       "Name: Class, dtype: float64"
      ]
     },
     "execution_count": 18,
     "metadata": {},
     "output_type": "execute_result"
    }
   ],
   "source": [
    "train.Class.value_counts(normalize=True)"
   ]
  },
  {
   "cell_type": "code",
   "execution_count": 19,
   "metadata": {
    "ExecuteTime": {
     "end_time": "2019-04-09T21:35:08.981705Z",
     "start_time": "2019-04-09T21:34:05.398Z"
    }
   },
   "outputs": [],
   "source": [
    "lb = LabelEncoder()\n",
    "train_y = lb.fit_transform(train.Class)\n",
    "train_y = keras.utils.np_utils.to_categorical(train_y)"
   ]
  },
  {
   "cell_type": "code",
   "execution_count": 20,
   "metadata": {
    "ExecuteTime": {
     "end_time": "2019-04-09T21:35:08.986302Z",
     "start_time": "2019-04-09T21:34:05.402Z"
    }
   },
   "outputs": [
    {
     "name": "stderr",
     "output_type": "stream",
     "text": [
      "WARNING: Logging before flag parsing goes to stderr.\n",
      "W0625 21:55:36.230805 14444 deprecation_wrapper.py:119] From c:\\programdata\\anaconda3\\envs\\tensorflow\\lib\\site-packages\\keras\\backend\\tensorflow_backend.py:74: The name tf.get_default_graph is deprecated. Please use tf.compat.v1.get_default_graph instead.\n",
      "\n",
      "W0625 21:55:51.869289 14444 deprecation_wrapper.py:119] From c:\\programdata\\anaconda3\\envs\\tensorflow\\lib\\site-packages\\keras\\backend\\tensorflow_backend.py:517: The name tf.placeholder is deprecated. Please use tf.compat.v1.placeholder instead.\n",
      "\n",
      "W0625 21:55:59.919022 14444 deprecation_wrapper.py:119] From c:\\programdata\\anaconda3\\envs\\tensorflow\\lib\\site-packages\\keras\\backend\\tensorflow_backend.py:4138: The name tf.random_uniform is deprecated. Please use tf.random.uniform instead.\n",
      "\n",
      "W0625 21:56:04.164508 14444 deprecation_wrapper.py:119] From c:\\programdata\\anaconda3\\envs\\tensorflow\\lib\\site-packages\\keras\\backend\\tensorflow_backend.py:133: The name tf.placeholder_with_default is deprecated. Please use tf.compat.v1.placeholder_with_default instead.\n",
      "\n",
      "W0625 21:56:04.234512 14444 deprecation.py:506] From c:\\programdata\\anaconda3\\envs\\tensorflow\\lib\\site-packages\\keras\\backend\\tensorflow_backend.py:3445: calling dropout (from tensorflow.python.ops.nn_ops) with keep_prob is deprecated and will be removed in a future version.\n",
      "Instructions for updating:\n",
      "Please use `rate` instead of `keep_prob`. Rate should be set to `rate = 1 - keep_prob`.\n"
     ]
    }
   ],
   "source": [
    "model = Sequential()\n",
    "model.add(Conv2D(64, kernel_size=3, activation='relu', input_shape=(64,64,2)))\n",
    "model.add(Conv2D(32, kernel_size=3, activation='relu'))\n",
    "model.add(Dropout(0.2))\n",
    "model.add(Conv2D(32, kernel_size=3, activation='relu'))\n",
    "model.add(Dropout(0.2))\n",
    "model.add(Conv2D(32, kernel_size=3, activation='relu'))\n",
    "model.add(Flatten())\n",
    "model.add(Dense(3, activation='softmax'))"
   ]
  },
  {
   "cell_type": "code",
   "execution_count": 21,
   "metadata": {
    "ExecuteTime": {
     "end_time": "2019-04-09T21:35:08.989500Z",
     "start_time": "2019-04-09T21:34:05.407Z"
    }
   },
   "outputs": [
    {
     "name": "stderr",
     "output_type": "stream",
     "text": [
      "W0625 21:56:04.738467 14444 deprecation_wrapper.py:119] From c:\\programdata\\anaconda3\\envs\\tensorflow\\lib\\site-packages\\keras\\optimizers.py:790: The name tf.train.Optimizer is deprecated. Please use tf.compat.v1.train.Optimizer instead.\n",
      "\n",
      "W0625 21:56:04.802463 14444 deprecation_wrapper.py:119] From c:\\programdata\\anaconda3\\envs\\tensorflow\\lib\\site-packages\\keras\\backend\\tensorflow_backend.py:3295: The name tf.log is deprecated. Please use tf.math.log instead.\n",
      "\n"
     ]
    }
   ],
   "source": [
    "model.compile(optimizer='adam', loss='categorical_crossentropy', metrics=['accuracy'])"
   ]
  },
  {
   "cell_type": "code",
   "execution_count": 22,
   "metadata": {
    "ExecuteTime": {
     "end_time": "2019-04-09T21:35:08.995467Z",
     "start_time": "2019-04-09T21:34:05.411Z"
    }
   },
   "outputs": [
    {
     "name": "stdout",
     "output_type": "stream",
     "text": [
      "_________________________________________________________________\n",
      "Layer (type)                 Output Shape              Param #   \n",
      "=================================================================\n",
      "conv2d_1 (Conv2D)            (None, 62, 62, 64)        1216      \n",
      "_________________________________________________________________\n",
      "conv2d_2 (Conv2D)            (None, 60, 60, 32)        18464     \n",
      "_________________________________________________________________\n",
      "dropout_1 (Dropout)          (None, 60, 60, 32)        0         \n",
      "_________________________________________________________________\n",
      "conv2d_3 (Conv2D)            (None, 58, 58, 32)        9248      \n",
      "_________________________________________________________________\n",
      "dropout_2 (Dropout)          (None, 58, 58, 32)        0         \n",
      "_________________________________________________________________\n",
      "conv2d_4 (Conv2D)            (None, 56, 56, 32)        9248      \n",
      "_________________________________________________________________\n",
      "flatten_1 (Flatten)          (None, 100352)            0         \n",
      "_________________________________________________________________\n",
      "dense_1 (Dense)              (None, 3)                 301059    \n",
      "=================================================================\n",
      "Total params: 339,235\n",
      "Trainable params: 339,235\n",
      "Non-trainable params: 0\n",
      "_________________________________________________________________\n"
     ]
    }
   ],
   "source": [
    "model.summary()"
   ]
  },
  {
   "cell_type": "code",
   "execution_count": 23,
   "metadata": {
    "ExecuteTime": {
     "end_time": "2019-04-09T21:35:08.998486Z",
     "start_time": "2019-04-09T21:34:05.415Z"
    }
   },
   "outputs": [],
   "source": [
    "batch_size = 128\n",
    "epochs = 30"
   ]
  },
  {
   "cell_type": "code",
   "execution_count": 24,
   "metadata": {
    "ExecuteTime": {
     "end_time": "2019-04-09T21:35:09.005114Z",
     "start_time": "2019-04-09T21:34:05.420Z"
    }
   },
   "outputs": [
    {
     "name": "stderr",
     "output_type": "stream",
     "text": [
      "W0625 22:22:00.308779 14444 deprecation.py:323] From c:\\programdata\\anaconda3\\envs\\tensorflow\\lib\\site-packages\\tensorflow\\python\\ops\\math_grad.py:1250: add_dispatch_support.<locals>.wrapper (from tensorflow.python.ops.array_ops) is deprecated and will be removed in a future version.\n",
      "Instructions for updating:\n",
      "Use tf.where in 2.0, which has the same broadcast rule as np.where\n"
     ]
    },
    {
     "name": "stdout",
     "output_type": "stream",
     "text": [
      "Train on 15924 samples, validate on 3982 samples\n",
      "Epoch 1/30\n",
      "15924/15924 [==============================] - 458s 29ms/step - loss: 1.0175 - acc: 0.5305 - val_loss: 0.9192 - val_acc: 0.5806\n",
      "Epoch 2/30\n",
      "15924/15924 [==============================] - 461s 29ms/step - loss: 0.8682 - acc: 0.5934 - val_loss: 0.8500 - val_acc: 0.5929\n",
      "Epoch 3/30\n",
      "15924/15924 [==============================] - 471s 30ms/step - loss: 0.8511 - acc: 0.5977 - val_loss: 0.8388 - val_acc: 0.6100\n",
      "Epoch 4/30\n",
      "15924/15924 [==============================] - 464s 29ms/step - loss: 0.8350 - acc: 0.6093 - val_loss: 0.8556 - val_acc: 0.5756\n",
      "Epoch 5/30\n",
      "15924/15924 [==============================] - 463s 29ms/step - loss: 0.8241 - acc: 0.6117 - val_loss: 0.8124 - val_acc: 0.6118\n",
      "Epoch 6/30\n",
      "15924/15924 [==============================] - 471s 30ms/step - loss: 0.8094 - acc: 0.6181 - val_loss: 0.8330 - val_acc: 0.6148\n",
      "Epoch 7/30\n",
      "15924/15924 [==============================] - 476s 30ms/step - loss: 0.7956 - acc: 0.6345 - val_loss: 0.8055 - val_acc: 0.6384\n",
      "Epoch 8/30\n",
      "15924/15924 [==============================] - 458s 29ms/step - loss: 0.7770 - acc: 0.6421 - val_loss: 0.8001 - val_acc: 0.6381\n",
      "Epoch 9/30\n",
      "15924/15924 [==============================] - 449s 28ms/step - loss: 0.7714 - acc: 0.6469 - val_loss: 0.7949 - val_acc: 0.6354\n",
      "Epoch 10/30\n",
      "15924/15924 [==============================] - 481s 30ms/step - loss: 0.7450 - acc: 0.6627 - val_loss: 0.7865 - val_acc: 0.6517\n",
      "Epoch 11/30\n",
      "15924/15924 [==============================] - 489s 31ms/step - loss: 0.7206 - acc: 0.6775 - val_loss: 0.7824 - val_acc: 0.6474\n",
      "Epoch 12/30\n",
      "15924/15924 [==============================] - 505s 32ms/step - loss: 0.6928 - acc: 0.6898 - val_loss: 0.8081 - val_acc: 0.6447\n",
      "Epoch 13/30\n",
      "15924/15924 [==============================] - 534s 34ms/step - loss: 0.6604 - acc: 0.7077 - val_loss: 0.7918 - val_acc: 0.6454\n",
      "Epoch 14/30\n",
      "15924/15924 [==============================] - 499s 31ms/step - loss: 0.6280 - acc: 0.7288 - val_loss: 0.8178 - val_acc: 0.6291\n",
      "Epoch 15/30\n",
      "15924/15924 [==============================] - 457s 29ms/step - loss: 0.5911 - acc: 0.7458 - val_loss: 0.8474 - val_acc: 0.6316\n",
      "Epoch 16/30\n",
      "15924/15924 [==============================] - 453s 28ms/step - loss: 0.5577 - acc: 0.7631 - val_loss: 0.8567 - val_acc: 0.6452\n",
      "Epoch 17/30\n",
      "15924/15924 [==============================] - 451s 28ms/step - loss: 0.5142 - acc: 0.7880 - val_loss: 0.8882 - val_acc: 0.6341\n",
      "Epoch 18/30\n",
      "15924/15924 [==============================] - 467s 29ms/step - loss: 0.4798 - acc: 0.8031 - val_loss: 0.9399 - val_acc: 0.6339\n",
      "Epoch 19/30\n",
      "15924/15924 [==============================] - 501s 31ms/step - loss: 0.4364 - acc: 0.8208 - val_loss: 1.0007 - val_acc: 0.6271\n",
      "Epoch 20/30\n",
      "15924/15924 [==============================] - 483s 30ms/step - loss: 0.3971 - acc: 0.8377 - val_loss: 1.0657 - val_acc: 0.6233\n",
      "Epoch 21/30\n",
      "15924/15924 [==============================] - 490s 31ms/step - loss: 0.3610 - acc: 0.8563 - val_loss: 1.1051 - val_acc: 0.6228\n",
      "Epoch 22/30\n",
      "15924/15924 [==============================] - 500s 31ms/step - loss: 0.3113 - acc: 0.8767 - val_loss: 1.1876 - val_acc: 0.6118\n",
      "Epoch 23/30\n",
      "15924/15924 [==============================] - 507s 32ms/step - loss: 0.2789 - acc: 0.8895 - val_loss: 1.2257 - val_acc: 0.6138\n",
      "Epoch 24/30\n",
      "15924/15924 [==============================] - 507s 32ms/step - loss: 0.2425 - acc: 0.9052 - val_loss: 1.4593 - val_acc: 0.6236\n",
      "Epoch 25/30\n",
      "15924/15924 [==============================] - 517s 32ms/step - loss: 0.2169 - acc: 0.9140 - val_loss: 1.5389 - val_acc: 0.6170\n",
      "Epoch 26/30\n",
      "15924/15924 [==============================] - 501s 31ms/step - loss: 0.1904 - acc: 0.9252 - val_loss: 1.6878 - val_acc: 0.6092\n",
      "Epoch 27/30\n",
      "15924/15924 [==============================] - 532s 33ms/step - loss: 0.1686 - acc: 0.9341 - val_loss: 1.7553 - val_acc: 0.6095\n",
      "Epoch 28/30\n",
      "15924/15924 [==============================] - 572s 36ms/step - loss: 0.1526 - acc: 0.9437 - val_loss: 1.8426 - val_acc: 0.6210\n",
      "Epoch 29/30\n",
      "15924/15924 [==============================] - 572s 36ms/step - loss: 0.1382 - acc: 0.9476 - val_loss: 2.0344 - val_acc: 0.6080\n",
      "Epoch 30/30\n",
      "15924/15924 [==============================] - 466s 29ms/step - loss: 0.1300 - acc: 0.9537 - val_loss: 1.9909 - val_acc: 0.6128\n"
     ]
    },
    {
     "data": {
      "text/plain": [
       "<keras.callbacks.History at 0x134031ce898>"
      ]
     },
     "execution_count": 24,
     "metadata": {},
     "output_type": "execute_result"
    }
   ],
   "source": [
    "model.fit(train_x, train_y, batch_size=batch_size,epochs=epochs,verbose=1, validation_split=0.2)"
   ]
  },
  {
   "cell_type": "code",
   "execution_count": 25,
   "metadata": {
    "ExecuteTime": {
     "end_time": "2019-04-09T21:35:09.010196Z",
     "start_time": "2019-04-09T21:34:05.424Z"
    }
   },
   "outputs": [],
   "source": [
    "pred = model.predict_classes(test_x)\n",
    "pred = lb.inverse_transform(pred)\n",
    "test['Class'] = pred\n",
    "test.to_csv('convRes.csv', index=False)"
   ]
  },
  {
   "cell_type": "code",
   "execution_count": null,
   "metadata": {},
   "outputs": [],
   "source": []
  }
 ],
 "metadata": {
  "kernelspec": {
   "display_name": "Python 3",
   "language": "python",
   "name": "python3"
  },
  "language_info": {
   "codemirror_mode": {
    "name": "ipython",
    "version": 3
   },
   "file_extension": ".py",
   "mimetype": "text/x-python",
   "name": "python",
   "nbconvert_exporter": "python",
   "pygments_lexer": "ipython3",
   "version": "3.6.8"
  }
 },
 "nbformat": 4,
 "nbformat_minor": 2
}
